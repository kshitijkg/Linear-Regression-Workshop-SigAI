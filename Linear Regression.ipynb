{
 "cells": [
  {
   "cell_type": "code",
   "execution_count": 83,
   "metadata": {},
   "outputs": [],
   "source": [
    "import numpy as np"
   ]
  },
  {
   "cell_type": "code",
   "execution_count": 84,
   "metadata": {},
   "outputs": [],
   "source": [
    "#Non vectorised implementation\n",
    "def compute_error_for_line_given_points(m, points):\n",
    "    total_error = 0\n",
    "    for i in range(0, len(points)):\n",
    "        x = points[i,0]\n",
    "        y = points[i,1]\n",
    "        total_error += (y - (m * x )) ** 2\n",
    "    return total_error / float(2 * len(points))"
   ]
  },
  {
   "cell_type": "code",
   "execution_count": 86,
   "metadata": {},
   "outputs": [
    {
     "data": {
      "text/plain": [
       "array([  0.79533942, -15.35079195,  -1.03202427, -24.0709926 ,\n",
       "       -27.41771726, -23.06932986, -27.43017636, -19.87192263,\n",
       "       -27.22620061, -18.75086544,  -9.745947  , -28.12721188,\n",
       "       -17.84487375, -17.22439971, -24.7089841 , -11.76771387,\n",
       "       -38.2053075 , -37.08257001,  -3.22850954, -18.06039565,\n",
       "       -17.68874806, -53.17516556,  -9.77061085,  -9.81610146,\n",
       "       -23.53546476, -15.39474202, -38.14504948, -31.61380477,\n",
       "       -32.31478676, -32.87531127, -11.13479423,  -5.84505526,\n",
       "       -34.18086434, -38.60502632, -16.5796825 , -21.14761369,\n",
       "       -15.87225974, -17.62575718, -25.68856131, -23.13459179,\n",
       "        -8.12737498, -15.25154209, -32.83283585, -17.55409716,\n",
       "       -52.24667205, -12.90154506, -13.91715579, -34.41937523,\n",
       "       -18.8612794 , -28.86898003, -42.04645142, -20.59917351,\n",
       "       -24.96276288, -23.56021056, -22.34600687, -16.06163195,\n",
       "       -37.72510315, -24.02584101, -35.53881027, -18.25616506,\n",
       "       -20.50202142, -19.66121466, -33.71984499,  -8.97335378,\n",
       "       -36.25497564,  -5.30458949, -29.36767896, -38.17463471,\n",
       "        -9.98272003, -17.04364108, -18.80455314,  -9.98146651,\n",
       "       -25.56502242, -14.70469276, -33.91102597, -42.14916444,\n",
       "       -33.9822447 , -18.30158428, -23.74470332,  -5.89235517,\n",
       "       -23.30630844, -26.27384913, -21.39036456, -18.5844413 ,\n",
       "       -41.26319085, -24.83831757, -18.50017795, -19.22766696,\n",
       "       -29.47582257, -23.36141653, -34.23017583, -31.97656357,\n",
       "       -46.08813696, -43.89260557, -29.60046022, -31.50681644,\n",
       "       -22.87206713, -35.1924314 , -18.075099  , -28.32590957])"
      ]
     },
     "execution_count": 86,
     "metadata": {},
     "output_type": "execute_result"
    }
   ],
   "source": [
    "points = np.genfromtxt(\"data.csv\", delimiter=\",\")\n",
    "#points = np.asmatrix(points)\n",
    "type(points)\n",
    "points[:, 0] - points[:, 1]"
   ]
  },
  {
   "cell_type": "code",
   "execution_count": 55,
   "metadata": {},
   "outputs": [],
   "source": [
    "#Vectarised implmentation \n",
    "def compute_error_for_line_given_points_vectorised( m, points):\n",
    "    total_error = (1/float(2*len(points)))*(sum((points[:, 0]*m-points[:, 1])**2))\n",
    "    return total_error"
   ]
  },
  {
   "cell_type": "code",
   "execution_count": 59,
   "metadata": {},
   "outputs": [
    {
     "data": {
      "text/plain": [
       "393.7733218106683"
      ]
     },
     "execution_count": 59,
     "metadata": {},
     "output_type": "execute_result"
    }
   ],
   "source": [
    "compute_error_for_line_given_points_vectorised(2, points)"
   ]
  },
  {
   "cell_type": "code",
   "execution_count": 60,
   "metadata": {},
   "outputs": [
    {
     "data": {
      "text/plain": [
       "393.77332181066834"
      ]
     },
     "execution_count": 60,
     "metadata": {},
     "output_type": "execute_result"
    }
   ],
   "source": [
    "compute_error_for_line_given_points(2, points)"
   ]
  },
  {
   "cell_type": "code",
   "execution_count": 71,
   "metadata": {},
   "outputs": [],
   "source": [
    "def step_gradient(m_current, points, learning_rate):\n",
    "    m_gradient = 0\n",
    "\n",
    "    total_pts = float(len(points))\n",
    "    for i in range(0, len(points)):\n",
    "        x = points[i,0]\n",
    "        y = points[i,1]\n",
    "        \n",
    "        m_gradient = m_gradient - (1/total_pts) * x * (y - ((m_current * x)))\n",
    "        \n",
    "    new_m = m_current - learning_rate * m_gradient\n",
    "    return new_m"
   ]
  },
  {
   "cell_type": "code",
   "execution_count": 72,
   "metadata": {},
   "outputs": [],
   "source": [
    "def step_gradient_vectorised(m_current, points, learning_rate):\n",
    "    total_pts = float(len(points))\n",
    "   \n",
    "\n",
    "    new_m = m_current - learning_rate * (1/total_pts) * (sum((points[:, 0]*(points[:, 0]*m_current-points[:, 1]))))\n",
    "    return new_m"
   ]
  },
  {
   "cell_type": "code",
   "execution_count": 73,
   "metadata": {},
   "outputs": [
    {
     "data": {
      "text/plain": [
       "-646.2854456822944"
      ]
     },
     "execution_count": 73,
     "metadata": {},
     "output_type": "execute_result"
    }
   ],
   "source": [
    "step_gradient_vectorised(2, points, 0.5)"
   ]
  },
  {
   "cell_type": "code",
   "execution_count": 74,
   "metadata": {},
   "outputs": [
    {
     "data": {
      "text/plain": [
       "-646.2854456822948"
      ]
     },
     "execution_count": 74,
     "metadata": {},
     "output_type": "execute_result"
    }
   ],
   "source": [
    "step_gradient(2, points, 0.5)"
   ]
  },
  {
   "cell_type": "code",
   "execution_count": 78,
   "metadata": {},
   "outputs": [],
   "source": [
    "def gradient_descent_runner():\n",
    "  # Initialize variable for Gradient Descent\n",
    "    #points = genfromtxt(\"data.csv\", delimiter=\",\")\n",
    "\n",
    "    learning_rate = 0.0001\n",
    "\n",
    "    starting_m = 0  # initial slope\n",
    "\n",
    "    num_iters = 1000\n",
    "\n",
    "    print(\"Starting gradient descent -> initial_m = {0}, initial_error = {1}\".format(starting_m,\n",
    "                                                                            compute_error_for_line_given_points(starting_m, points)))\n",
    "    print(\"Running...\")\n",
    "\n",
    "    for i in range(num_iters):\n",
    "        starting_m = step_gradient(starting_m, array(points), learning_rate)\n",
    "\n",
    "    print(\"After {0} iterations -> final_m = {1}, final_error = {2}\".format(num_iters, starting_m,\n",
    "                                                                    compute_error_for_line_given_points( starting_m, points)))"
   ]
  },
  {
   "cell_type": "code",
   "execution_count": 79,
   "metadata": {},
   "outputs": [
    {
     "name": "stdout",
     "output_type": "stream",
     "text": [
      "Starting gradient descent -> initial_m = 0, initial_error = 2782.5539172416056\n",
      "Running...\n",
      "After 1000 iterations -> final_m = 1.4794897258742803, final_error = 56.334086766863244\n"
     ]
    }
   ],
   "source": [
    "gradient_descent_runner()"
   ]
  },
  {
   "cell_type": "code",
   "execution_count": 81,
   "metadata": {},
   "outputs": [],
   "source": [
    "def gradient_descent_runner_vectorised():\n",
    "  # Initialize variable for Gradient Descent\n",
    "    #points = genfromtxt(\"data.csv\", delimiter=\",\")\n",
    "\n",
    "    learning_rate = 0.0001\n",
    "\n",
    "    starting_m = 0  # initial slope\n",
    "\n",
    "    num_iters = 1000\n",
    "\n",
    "    print(\"Starting gradient descent -> initial_m = {0}, initial_error = {1}\".format(starting_m,\n",
    "                                                                            compute_error_for_line_given_points_vectorised(starting_m, points)))\n",
    "    print(\"Running...\")\n",
    "\n",
    "    for i in range(num_iters):\n",
    "        starting_m = step_gradient_vectorised(starting_m, array(points), learning_rate)\n",
    "\n",
    "    print(\"After {0} iterations -> final_m = {1}, final_error = {2}\".format(num_iters, starting_m,\n",
    "                                                                    compute_error_for_line_given_points_vectorised( starting_m, points)))"
   ]
  },
  {
   "cell_type": "code",
   "execution_count": 82,
   "metadata": {},
   "outputs": [
    {
     "name": "stdout",
     "output_type": "stream",
     "text": [
      "Starting gradient descent -> initial_m = 0, initial_error = 2782.553917241607\n",
      "Running...\n",
      "After 1000 iterations -> final_m = 1.4794897258742803, final_error = 56.33408676686325\n"
     ]
    }
   ],
   "source": [
    "gradient_descent_runner_vectorised()"
   ]
  },
  {
   "cell_type": "code",
   "execution_count": null,
   "metadata": {},
   "outputs": [],
   "source": []
  }
 ],
 "metadata": {
  "kernelspec": {
   "display_name": "Python 3",
   "language": "python",
   "name": "python3"
  },
  "language_info": {
   "codemirror_mode": {
    "name": "ipython",
    "version": 3
   },
   "file_extension": ".py",
   "mimetype": "text/x-python",
   "name": "python",
   "nbconvert_exporter": "python",
   "pygments_lexer": "ipython3",
   "version": "3.6.5"
  }
 },
 "nbformat": 4,
 "nbformat_minor": 2
}
